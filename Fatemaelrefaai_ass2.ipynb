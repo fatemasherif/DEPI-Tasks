{
  "nbformat": 4,
  "nbformat_minor": 0,
  "metadata": {
    "colab": {
      "provenance": []
    },
    "kernelspec": {
      "name": "python3",
      "display_name": "Python 3"
    },
    "language_info": {
      "name": "python"
    }
  },
  "cells": [
    {
      "cell_type": "code",
      "execution_count": 13,
      "metadata": {
        "colab": {
          "base_uri": "https://localhost:8080/"
        },
        "id": "12uk2Tgs-VgK",
        "outputId": "e46195ad-d0c4-4423-c2f5-995835622d72"
      },
      "outputs": [
        {
          "output_type": "stream",
          "name": "stdout",
          "text": [
            "[0, 1, 2, 3, 4, 5]\n"
          ]
        }
      ],
      "source": [
        "list1= [3,1,4]\n",
        "list2= [2,5,0]\n",
        "sortedlist=list1+list2\n",
        "n=len(sortedlist)\n",
        "for i in range(n) :\n",
        "    for j in range (0,n-i-1) :\n",
        "         if sortedlist[j]>sortedlist[j+1] :\n",
        "             sortedlist[j], sortedlist[j+1]= sortedlist[j+1], sortedlist[j]\n",
        "print (sortedlist)\n"
      ]
    },
    {
      "cell_type": "code",
      "source": [
        "s=\"abc\"\n",
        "n=len(s)\n",
        "result= \" \"\n",
        "for char in  s :\n",
        "  result+= char* n\n",
        "print (result)\n"
      ],
      "metadata": {
        "colab": {
          "base_uri": "https://localhost:8080/"
        },
        "id": "f8dhycAZAnhw",
        "outputId": "2636189e-a489-4faf-df11-d15952165bbd"
      },
      "execution_count": 12,
      "outputs": [
        {
          "output_type": "stream",
          "name": "stdout",
          "text": [
            " aaabbbccc\n"
          ]
        }
      ]
    }
  ]
}