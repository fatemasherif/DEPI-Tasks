{
  "nbformat": 4,
  "nbformat_minor": 0,
  "metadata": {
    "colab": {
      "provenance": [],
      "authorship_tag": "ABX9TyO3BbWpjtZd8wHcIptNNymy",
      "include_colab_link": true
    },
    "kernelspec": {
      "name": "python3",
      "display_name": "Python 3"
    },
    "language_info": {
      "name": "python"
    }
  },
  "cells": [
    {
      "cell_type": "markdown",
      "metadata": {
        "id": "view-in-github",
        "colab_type": "text"
      },
      "source": [
        "<a href=\"https://colab.research.google.com/github/fatemasherif/DEPI-Tasks/blob/main/fatemaelrifaa.Ass_3.ipynb\" target=\"_parent\"><img src=\"https://colab.research.google.com/assets/colab-badge.svg\" alt=\"Open In Colab\"/></a>"
      ]
    },
    {
      "cell_type": "code",
      "execution_count": 7,
      "metadata": {
        "colab": {
          "base_uri": "https://localhost:8080/"
        },
        "id": "YwnPaLBLH76G",
        "outputId": "b55aba51-a6a2-4e7d-a4b4-188e44bc5b4d"
      },
      "outputs": [
        {
          "output_type": "stream",
          "name": "stdout",
          "text": [
            "Enter a stringhello world\n",
            "3\n"
          ]
        }
      ],
      "source": [
        "#first question\n",
        "def countvowels(text):\n",
        "   vowels= (\"AEIOUaeiou\")\n",
        "   count=0\n",
        "   for char in text :\n",
        "      if char in vowels :\n",
        "        count+=1;\n",
        "   return count\n",
        "\n",
        "text=input(f\"Enter a string\")\n",
        "print (countvowels(text))"
      ]
    },
    {
      "cell_type": "code",
      "source": [
        "#second question\n",
        "\n",
        "def findmaxnumber(numbers):\n",
        "  maxnum=numbers[0]\n",
        "  for num in numbers:\n",
        "    if num>maxnum:\n",
        "      maxnum=num\n",
        "  return maxnum\n",
        "\n",
        "numbers=input(\"Enter list numbers\").split(\",\")\n",
        "print (findmaxnumber(numbers))"
      ],
      "metadata": {
        "colab": {
          "base_uri": "https://localhost:8080/"
        },
        "id": "7t1ThXL5LLYV",
        "outputId": "49d20fbb-f936-48bc-9b1d-b96ed8dea55f"
      },
      "execution_count": 12,
      "outputs": [
        {
          "output_type": "stream",
          "name": "stdout",
          "text": [
            "Enter list numbers1,2,3,4\n",
            "4\n"
          ]
        }
      ]
    }
  ]
}